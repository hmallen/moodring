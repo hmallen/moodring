{
 "cells": [
  {
   "cell_type": "code",
   "execution_count": null,
   "metadata": {},
   "outputs": [],
   "source": [
    "# import argparse\n",
    "import configparser\n",
    "import dateutil\n",
    "import json\n",
    "import logging\n",
    "import os\n",
    "import sys\n",
    "\n",
    "import pandas as pd\n",
    "\n",
    "logging.basicConfig()\n",
    "logger = logging.getLogger(__name__)\n",
    "logger.setLevel(logging.DEBUG)\n",
    "\n",
    "# parser = argparse.ArgumentParser()\n",
    "# parser.add_argument(\n",
    "#     \"-c\", \"--config\", type=str, default=\"settings.conf\", help=\"Path to config file.\"\n",
    "# )\n",
    "# args = parser.parse_args()\n",
    "\n",
    "# config_file = args.config\n",
    "\n",
    "config_file = 'settings.conf'\n",
    "\n",
    "config = configparser.RawConfigParser()\n",
    "config.read(config_file)\n",
    "\n",
    "df_header = [\n",
    "    ('timestamp', 'timestamp'),\n",
    "    ('user_name', 'author.name'),\n",
    "    ('user_id', 'author.id'),\n",
    "    ('bot', 'author.isBot'),\n",
    "    ('channel', 'channel.name'),\n",
    "    ('message', 'content'),\n",
    "    ('message_id', 'id')\n",
    "]"
   ]
  },
  {
   "cell_type": "code",
   "execution_count": 2,
   "metadata": {},
   "outputs": [],
   "source": [
    "sys.path.append(os.path.abspath(os.path.join('src/')))\n",
    "\n",
    "from process_data import ProcessData"
   ]
  },
  {
   "cell_type": "code",
   "execution_count": 3,
   "metadata": {},
   "outputs": [
    {
     "ename": "NameError",
     "evalue": "name 'create_dataframe' is not defined",
     "output_type": "error",
     "traceback": [
      "\u001b[0;31m---------------------------------------------------------------------------\u001b[0m",
      "\u001b[0;31mNameError\u001b[0m                                 Traceback (most recent call last)",
      "\u001b[0;32m/tmp/ipykernel_10301/739466974.py\u001b[0m in \u001b[0;36m<module>\u001b[0;34m\u001b[0m\n\u001b[1;32m      1\u001b[0m \u001b[0mproc\u001b[0m \u001b[0;34m=\u001b[0m \u001b[0mProcessData\u001b[0m\u001b[0;34m(\u001b[0m\u001b[0;34m)\u001b[0m\u001b[0;34m\u001b[0m\u001b[0;34m\u001b[0m\u001b[0m\n\u001b[1;32m      2\u001b[0m \u001b[0;34m\u001b[0m\u001b[0m\n\u001b[0;32m----> 3\u001b[0;31m \u001b[0mdata\u001b[0m \u001b[0;34m=\u001b[0m \u001b[0mcreate_dataframe\u001b[0m\u001b[0;34m(\u001b[0m\u001b[0mquery\u001b[0m\u001b[0;34m=\u001b[0m\u001b[0;34m{\u001b[0m\u001b[0;34m}\u001b[0m\u001b[0;34m)\u001b[0m\u001b[0;34m\u001b[0m\u001b[0;34m\u001b[0m\u001b[0m\n\u001b[0m\u001b[1;32m      4\u001b[0m \u001b[0;34m\u001b[0m\u001b[0m\n\u001b[1;32m      5\u001b[0m \u001b[0mprint\u001b[0m\u001b[0;34m(\u001b[0m\u001b[0mproc\u001b[0m\u001b[0;34m.\u001b[0m\u001b[0mdata\u001b[0m\u001b[0;34m)\u001b[0m\u001b[0;34m\u001b[0m\u001b[0;34m\u001b[0m\u001b[0m\n",
      "\u001b[0;31mNameError\u001b[0m: name 'create_dataframe' is not defined"
     ]
    }
   ],
   "source": [
    "proc = ProcessData(config_path=config_file)\n",
    "\n",
    "data = proc.create_dataframe(query={})\n",
    "\n",
    "print(proc.data)"
   ]
  },
  {
   "cell_type": "code",
   "execution_count": null,
   "metadata": {},
   "outputs": [],
   "source": [
    "from google.cloud import language_v1beta2 as lang\n",
    "\n",
    "client = lang.LanguageServiceClient()\n",
    "\n",
    "document = {\n",
    "    'content': '',\n",
    "    'type_': lang.types.Document.Type.PLAIN_TEXT,\n",
    "}\n",
    "\n",
    "encoding_type = lang.EncodingType.UTF32\n",
    "\n",
    "sentiment_column = []\n",
    "for idx, msg in data.iterrows():\n",
    "    document['content'] = msg['message']\n",
    "    print(document)\n",
    "\n",
    "    response = client.analyze_entity_sentiment(\n",
    "        request={\n",
    "            'document': document,\n",
    "            'encoding_type': encoding_type\n",
    "        }\n",
    "    )\n",
    "    print(response)\n",
    "    sentiment_column.append(response)\n",
    "\n",
    "data['sentiment'] = sentiment_column\n",
    "\n",
    "print(data)"
   ]
  },
  {
   "cell_type": "code",
   "execution_count": null,
   "metadata": {},
   "outputs": [],
   "source": [
    "users = []\n",
    "for name in data['user_name'].unique():\n",
    "    if '#' not in name:\n",
    "        users.append(name)\n",
    "\n",
    "print(users)"
   ]
  },
  {
   "cell_type": "code",
   "execution_count": null,
   "metadata": {},
   "outputs": [],
   "source": [
    "for user in users:\n",
    "    user_data = data[data['user_name'] == user]\n",
    "    print(f\"{user} - {user_data['message'].count()}\")\n",
    "\n",
    "user_summary = pd.DataFrame()"
   ]
  },
  {
   "cell_type": "code",
   "execution_count": null,
   "metadata": {},
   "outputs": [],
   "source": []
  }
 ],
 "metadata": {
  "interpreter": {
   "hash": "60f4fef934dc79e446d6a23a0de878604919a8177d4bef518cd28fce1f871205"
  },
  "kernelspec": {
   "display_name": "Python 3.9.7 64-bit ('moodring-wBBsAn2t': virtualenv)",
   "language": "python",
   "name": "python3"
  },
  "language_info": {
   "codemirror_mode": {
    "name": "ipython",
    "version": 3
   },
   "file_extension": ".py",
   "mimetype": "text/x-python",
   "name": "python",
   "nbconvert_exporter": "python",
   "pygments_lexer": "ipython3",
   "version": "3.9.7"
  },
  "orig_nbformat": 4
 },
 "nbformat": 4,
 "nbformat_minor": 2
}
