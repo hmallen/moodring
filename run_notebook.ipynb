{
 "cells": [
  {
   "cell_type": "code",
   "execution_count": null,
   "metadata": {},
   "outputs": [],
   "source": [
    "import argparse\n",
    "import configparser\n",
    "import dateutil\n",
    "import json\n",
    "import logging\n",
    "import os\n",
    "import sys\n",
    "\n",
    "import pandas as pd\n",
    "from pymongo import MongoClient\n",
    "\n",
    "logging.basicConfig()\n",
    "logger = logging.getLogger(__name__)\n",
    "logger.setLevel(logging.DEBUG)\n",
    "\n",
    "parser = argparse.ArgumentParser()\n",
    "parser.add_argument(\n",
    "    \"-c\", \"--config\", type=str, default=\"settings.conf\", help=\"Path to config file.\"\n",
    ")\n",
    "args = parser.parse_args()\n",
    "\n",
    "config_file = args.config\n",
    "\n",
    "config = configparser.RawConfigParser()\n",
    "config.read(config_file)\n",
    "\n",
    "df_header = [\n",
    "    ('timestamp', 'timestamp'),\n",
    "    ('user_name', 'author.name'),\n",
    "    ('user_id', 'author.id'),\n",
    "    ('channel', 'channel.name'),\n",
    "    ('message', 'content'),\n",
    "    ('message_id', 'id')\n",
    "]"
   ]
  },
  {
   "cell_type": "code",
   "execution_count": null,
   "metadata": {},
   "outputs": [],
   "source": [
    "def create_dateframe(query={}):\n",
    "    mongo_client = MongoClient(config[\"mongodb\"][\"connection_string\"])\n",
    "    mongo_db = mongo_client[config[\"mongodb\"][\"db\"]]\n",
    "    mongo_coll = mongo_db[config[\"mongodb\"][\"collection\"]]\n",
    "\n",
    "    docs = mongo_coll.find(query)\n",
    "\n",
    "    data = {\n",
    "        'timestamp': [],\n",
    "        'user_name': [],\n",
    "        'user_id': [],\n",
    "        'channel': [],\n",
    "        'message': [],\n",
    "        'message_id': []\n",
    "    }\n",
    "\n",
    "    for msg in docs:\n",
    "        data['timestamp'].append(msg['timestamp'])\n",
    "        data['user_name'].append(msg['author']['name'])\n",
    "        data['user_id'].append(msg['author']['id'])\n",
    "        data['channel'].append(msg['channel']['name'])\n",
    "        data['message'].append(msg['content'])\n",
    "        data['message_id'].append(msg['id'])\n",
    "\n",
    "    df = pd.DataFrame(data)\n",
    "\n",
    "    return df\n",
    "\n",
    "\n",
    "dataframe = create_dateframe(query={})\n",
    "\n",
    "print(dataframe)"
   ]
  },
  {
   "cell_type": "code",
   "execution_count": null,
   "metadata": {},
   "outputs": [],
   "source": []
  }
 ],
 "metadata": {
  "interpreter": {
   "hash": "60f4fef934dc79e446d6a23a0de878604919a8177d4bef518cd28fce1f871205"
  },
  "kernelspec": {
   "display_name": "Python 3.9.7 64-bit ('moodring-wBBsAn2t': virtualenv)",
   "language": "python",
   "name": "python3"
  },
  "language_info": {
   "name": "python",
   "version": "3.9.7"
  },
  "orig_nbformat": 4
 },
 "nbformat": 4,
 "nbformat_minor": 2
}
