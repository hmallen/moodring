{
 "cells": [
  {
   "cell_type": "code",
   "execution_count": null,
   "metadata": {},
   "outputs": [],
   "source": [
    "import argparse\n",
    "import configparser\n",
    "import dateutil\n",
    "import json\n",
    "import logging\n",
    "import os\n",
    "import sys\n",
    "\n",
    "import pandas as pd\n",
    "from pymongo import MongoClient\n",
    "\n",
    "logging.basicConfig()\n",
    "logger = logging.getLogger(__name__)\n",
    "logger.setLevel(logging.DEBUG)\n",
    "\n",
    "# parser = argparse.ArgumentParser()\n",
    "# parser.add_argument(\n",
    "#     \"-c\", \"--config\", type=str, default=\"settings.conf\", help=\"Path to config file.\"\n",
    "# )\n",
    "# args = parser.parse_args()\n",
    "\n",
    "# config_file = args.config\n",
    "\n",
    "config_file = 'settings.conf'\n",
    "\n",
    "config = configparser.RawConfigParser()\n",
    "config.read(config_file)\n",
    "\n",
    "df_header = [\n",
    "    ('timestamp', 'timestamp'),\n",
    "    ('user_name', 'author.name'),\n",
    "    ('user_id', 'author.id'),\n",
    "    ('bot', 'author.isBot'),\n",
    "    ('channel', 'channel.name'),\n",
    "    ('message', 'content'),\n",
    "    ('message_id', 'id')\n",
    "]"
   ]
  },
  {
   "cell_type": "code",
   "execution_count": null,
   "metadata": {},
   "outputs": [],
   "source": [
    "def create_dateframe(query={}):\n",
    "    mongo_client = MongoClient(config[\"mongodb\"][\"connection_string\"])\n",
    "    mongo_db = mongo_client[config[\"mongodb\"][\"db\"]]\n",
    "    mongo_coll = mongo_db[config[\"mongodb\"][\"collection\"]]\n",
    "\n",
    "    docs = mongo_coll.find(query)\n",
    "\n",
    "    data = {\n",
    "        'timestamp': [],\n",
    "        'user_name': [],\n",
    "        'user_id': [],\n",
    "        'bot': [],\n",
    "        'channel': [],\n",
    "        'message': [],\n",
    "        'message_id': [],\n",
    "        'sentiment': []\n",
    "    }\n",
    "\n",
    "    for msg in docs:\n",
    "        data['timestamp'].append(msg['timestamp'])\n",
    "        data['user_name'].append(msg['author']['name'])\n",
    "        data['user_id'].append(msg['author']['id'])\n",
    "        data['bot'].append(msg['author']['isBot'])\n",
    "        data['channel'].append(msg['channel']['name'])\n",
    "        data['message'].append(msg['content'])\n",
    "        data['message_id'].append(msg['id']),\n",
    "        data['sentiment'].append(None)\n",
    "\n",
    "    df = pd.DataFrame(data)\n",
    "    df = df[:3]\n",
    "\n",
    "    return df\n",
    "\n",
    "\n",
    "dataframe = create_dateframe(query={})\n",
    "\n",
    "print(dataframe)"
   ]
  },
  {
   "cell_type": "code",
   "execution_count": null,
   "metadata": {},
   "outputs": [],
   "source": [
    "from google.cloud import language_v1beta2 as lang\n",
    "\n",
    "client = lang.LanguageServiceClient()\n",
    "\n",
    "document = {\n",
    "    'content': '',\n",
    "    'type_': lang.types.Document.Type.PLAIN_TEXT,\n",
    "}\n",
    "\n",
    "encoding_type = lang.EncodingType.UTF32\n",
    "\n",
    "sentiment_column = []\n",
    "for idx, msg in dataframe.iterrows():\n",
    "    document['content'] = msg['message']\n",
    "    print(document)\n",
    "\n",
    "    response = client.analyze_entity_sentiment(\n",
    "        request={\n",
    "            'document': document,\n",
    "            'encoding_type': encoding_type\n",
    "        }\n",
    "    )\n",
    "    print(response)\n",
    "    sentiment_column.append(response)\n",
    "dataframe['sentiment'] = sentiment_column\n",
    "\n",
    "print(dataframe)"
   ]
  },
  {
   "cell_type": "code",
   "execution_count": null,
   "metadata": {},
   "outputs": [],
   "source": [
    "users = []\n",
    "for name in dataframe['user_name'].unique():\n",
    "    if '#' not in name:\n",
    "        users.append(name)\n",
    "\n",
    "print(users)"
   ]
  },
  {
   "cell_type": "code",
   "execution_count": null,
   "metadata": {},
   "outputs": [],
   "source": [
    "for user in users:\n",
    "    user_data = dataframe[dataframe['user_name'] == user]\n",
    "    print(f\"{user} - {user_data['message'].count()}\")"
   ]
  }
 ],
 "metadata": {
  "interpreter": {
   "hash": "60f4fef934dc79e446d6a23a0de878604919a8177d4bef518cd28fce1f871205"
  },
  "kernelspec": {
   "display_name": "Python 3.9.7 64-bit ('moodring-wBBsAn2t': virtualenv)",
   "language": "python",
   "name": "python3"
  },
  "language_info": {
   "codemirror_mode": {
    "name": "ipython",
    "version": 3
   },
   "file_extension": ".py",
   "mimetype": "text/x-python",
   "name": "python",
   "nbconvert_exporter": "python",
   "pygments_lexer": "ipython3",
   "version": "3.9.7"
  },
  "orig_nbformat": 4
 },
 "nbformat": 4,
 "nbformat_minor": 2
}
